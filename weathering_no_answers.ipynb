{
 "cells": [
  {
   "cell_type": "markdown",
   "metadata": {},
   "source": [
    "## Usage\n",
    "\n",
    "<div style=\"background: #efffed;\n",
    "            border: 1px solid grey;\n",
    "            margin: 8px 0 8px 0;\n",
    "            text-align: center;\n",
    "            padding: 8px; \">\n",
    "    <i class=\"fa-play fa\" \n",
    "       style=\"font-size: 40px;\n",
    "              line-height: 40px;\n",
    "              margin: 8px;\n",
    "              color: #444;\">\n",
    "    </i>\n",
    "    <center>\n",
    "    To run a selected code cell, hit <pre style=\"background: #efffed\">Shift + Enter</pre>\n",
    "    </center>\n",
    "</div>"
   ]
  },
  {
   "cell_type": "markdown",
   "metadata": {
    "toc-hr-collapsed": false
   },
   "source": [
    "# Introduction"
   ]
  },
  {
   "cell_type": "markdown",
   "metadata": {},
   "source": [
    "## Technical prerequisites\n",
    "* none"
   ]
  },
  {
   "cell_type": "markdown",
   "metadata": {},
   "source": [
    "## Conceptual prerequisites\n",
    "* familiarity with mineral stability diagrams\n",
    "* using log rules to linearize equilibrium equations\n",
    "* plotting in log space"
   ]
  },
  {
   "cell_type": "markdown",
   "metadata": {},
   "source": [
    "## Learning goals\n",
    "* plot equilibrium lines on a mineral stability diagram using R\n",
    "* improve visualization of reaction paths\n",
    "* connect groundwater chemistry to mineral assemblages"
   ]
  },
  {
   "cell_type": "markdown",
   "metadata": {},
   "source": [
    "## Background information\n",
    "A mineral stability diagram shows the boundaries between the thermodynamic stability regions of different minerals (i.e., where the mineral begins to precipitate) as a function of two or more master variables, often the activities or activity ratios of the major controlling species present (Kinniburgh and Cooper, 2004 https://pubs.acs.org/doi/pdf/10.1021/es034927l)\n",
    "\n",
    "One application of mineral stability diagrams is to trace how _primary minerals_, which are often igneous or metamorphic, react _(weather)_ into _secondary mineral_ products when primary minerals contact water with which they are not in thermodynamic equilibrium.\n",
    "\n",
    "In this Jupyter notebook (run on an R kernel), we derive a mineral stability diagram, then calculate and visualize changes in water chemistry and secondary mineral assemblages as the common igneous primary mineral microcline (a form of potassium feldspar) reacts with a typical, mildly acidic soil water. Chemical weathering is a ubiquitous process on Earth's surface that is of fundamental importance due to its impact on the aqueous chemistry and mineralogy, as we will observe.\n",
    "\n",
    "By the way, Jupyter notebooks (as well as R markdown documents) weave together narrative text and code to produce elegantly formatted output. Plus, they are fully reproducible. All the cool kids are using them!\n",
    "\n",
    "Before diving into the chemistry, let's visualize the mineral stability diagram for the $\\text{K}_2\\text{O} - \\text{Al}_2\\text{O}_3 - \\text{SiO}_2 - \\text{H}_2\\text{O}$ system.\n",
    "\n",
    "First, we need to load some packages. Packages contain functions that other smarty-pants wizards wrote. That's one great thing about R: no need to re-invent the wheel. Run this code chunk by clicking into it and pressing Shift + Enter."
   ]
  },
  {
   "cell_type": "markdown",
   "metadata": {},
   "source": [
    "# Setup"
   ]
  },
  {
   "cell_type": "code",
   "execution_count": null,
   "metadata": {
    "Rmd_chunk_options": "setup, warning=FALSE, message=FALSE",
    "autoscroll": false
   },
   "outputs": [],
   "source": [
    "# load libraries\n",
    "suppressMessages({\n",
    "    library(tidyverse) # dplyr, tidyr, ggplot\n",
    "    library(plotly) # interactive plots\n",
    "    library(CHNOSZ) # stability diagrams\n",
    "    library(latex2exp) # writing compounds and greek letters in plots\n",
    "})\n",
    "data(thermo) # load thermodynamics constants\n",
    "source(file.path(\"scripts\", \"functions.R\")) # load custom functions\n",
    "options(repr.plot.width = 6, repr.plot.height = 4) # default plot size"
   ]
  },
  {
   "cell_type": "markdown",
   "metadata": {},
   "source": [
    "\n",
    "# Mineral stability diagram for the $\\text{K}_2\\text{O} - \\text{Al}_2\\text{O}_3 - \\text{SiO}_2 - \\text{H}_2\\text{O}$ system\n",
    "The R package 'CHNOSZ' contains a speciation function, which calculates the distribution of chemical species based on their thermodynamic characteristics, which are stored in a large database contained in the package. To generate the mineral stability diagram for the $\\text{K}_2\\text{O} - \\text{Al}_2\\text{O}_3 - \\text{SiO}_2 - \\text{H}_2\\text{O}$ system at T = 25˚C and P = 1 bar using the CHNOSZ package, run the chunk below.\n",
    "\n"
   ]
  },
  {
   "cell_type": "code",
   "execution_count": null,
   "metadata": {
    "Rmd_chunk_options": "fig.width=7, fig.height=6, warning=FALSE, error=FALSE, message=FALSE",
    "autoscroll": false
   },
   "outputs": [],
   "source": [
    "## K2O-Al2O3-SiO2-H2O, 25 degree C, 1 bar\n",
    "## Steinmann et al., 1994 (http://ccm.geoscienceworld.org/content/42/2/197)\n",
    "## Garrels and Christ, p. 361 (http://www.worldcat.org/oclc/517586)\n",
    "## https://wwwbrr.cr.usgs.gov/projects/GWC_coupled/phreeqc/html/final-75.html\n",
    "resolution <- 200\n",
    "basis <- basis(c(\"Al+3\", \"pseudo-H4SiO4\", \"K+\", \"H2O\", \"H+\", \"O2\"))\n",
    "species <- species(c(\"gibbsite\", \"muscovite\", \"kaolinite\", \"K-feldspar\"))\n",
    "a <- affinity(H4SiO4 = c(-6, -2, resolution), `K+` = c(-3, 6, resolution))\n",
    "\n",
    "# process\n",
    "plot <- a %>%\n",
    "  # fetch tidy data frame\n",
    "  get_diagram_data() %>%\n",
    "  # plot as ggplot\n",
    "  plot_diagram_data() +\n",
    "  # add labels\n",
    "  labs(\n",
    "    x = latex2exp::TeX(\"$\\\\log\\\\lbrack H_4SiO_4\\\\rbrack$$\"),\n",
    "    y = latex2exp::TeX(\"$\\\\log\\\\frac{\\\\lbrack K^+ \\\\rbrack}{\\\\lbrack H^+ \\\\rbrack}$\"),\n",
    "    fill = \"\")\n",
    "\n",
    "# print plot\n",
    "print(plot)"
   ]
  },
  {
   "cell_type": "markdown",
   "metadata": {},
   "source": [
    "Wow, we just pressed 2 buttons and made a lot of science happen! But what is the above diagram telling us? The x-axis of the diagram is $\\text{log}[\\text{H}_{4}\\text{SiO}_{4}]$, which is silicic acid. The Y-axis is $\\text{log}\\frac {[\\text{K}^{+}]}{[\\text{H}^{+}]}$. These species were chosen because they control the stability of the minerals in this sytem, but different species could be plotted depending on the system of interest. Soon, we will see why the log concentrations are plotted. This diagram shows the stable mineral at a wide range of water chemistry conditions."
   ]
  },
  {
   "cell_type": "markdown",
   "metadata": {},
   "source": [
    "## Question 1\n",
    "\n",
    "What is the stable mineral under the following conditions: $\\text{log}[\\text{H}_{4}\\text{SiO}_{4}]=-4$, $\\text{log}\\frac {[\\text{K}^{+}]}{[\\text{H}^{+}]}=0$, T = 25˚C and P = 1 bar?"
   ]
  },
  {
   "cell_type": "markdown",
   "metadata": {},
   "source": [
    "Now that you can visualize and interpret a mineral stability diagram, let's investigate how it is actually created.\n",
    "\n",
    "You should have already derived in class all the equilibria that are relevant to the system we've been discussing. For your reference, the equations and equilibrium constants, $K$, at 25˚C and 1 bar are provided below.\n",
    "\n",
    "**kaolinite - gibbsite**\n",
    "$\\text{Al}_3\\text{Si}_2\\text{O}_5\\text{(OH)}_4 \\text{(s)} + 5\\text{H}_2\\text{O} \\text{(l)} \\leftrightharpoons 2\\text{Al}\\text{(OH)}_3 \\text{(s)} + 2\\text{H}_4\\text{SiO}_4 \\text{(aq)}, \\space  K =10^{-8.491} \\space \\text{(reaction 1)}$\n",
    "\n",
    "**muscovite - gibbsite**\n",
    "$\\text{KAl}_3\\text{Si}_3\\text{O}_{10}\\text{(OH)}_2 \\text{(s)} + 9\\text{H}_2\\text{O} \\text{(l)}+ \\text{H}^+ \\text{(aq)} \\leftrightharpoons 3\\text{Al}\\text{(OH)}_3 \\text{(s)} + \\text{K}^+ \\text{(aq)}+ 3\\text{H}_4\\text{SiO}_4 \\text{(aq)}, K = \\text{10}^{-9.366} \\space \\text{(reaction 2)}$\n",
    "\n",
    "**muscovite - kaolinite**\n",
    "$2\\text{KAl}_3\\text{Si}_3\\text{O}_{10}\\text{(OH)}_2 \\text{(s)} + 3\\text{H}_2\\text{O} \\text{(l)}+ 2\\text{H}^+ \\text{(aq)} \\leftrightharpoons 3\\text{Al}_2\\text{Si}_2\\text{O}_5\\text{(OH)}_4 \\text{(s)} + 2 \\text {K}^+ \\text{(aq)}, \\space K = 10^{6.741} \\space \\text{(reaction 3)}$\n",
    "\n",
    "**microcline - muscovite**\n",
    "$3\\text{KAlSi}_3\\text{O}_8 \\text{(s)}+ 2\\text{H}^+ \\text{(aq)} + 12\\text{H}_2\\text{O} \\text{(l)} \\leftrightharpoons \\text{KAl}_3\\text{Si}_3\\text{O}_{10}\\text{(OH)}_2 \\text{(s)} + 2 \\text {K}^+ \\text{(aq)} + 6\\text{H}_{4}\\text{SiO}_{4} \\text{(aq)},\\space K = 10^{-14.412} \\space \\text{(reaction 4)}$\n",
    "\n",
    "**microcline - kaolinite**\n",
    "$2\\text{KAlSi}_3\\text{O}_8 \\text{(s)} + 2\\text{H}^+ \\text{(aq)}+ 9\\text{H}_2\\text{O} \\text{(l)} \\leftrightharpoons  \\text{Al}_2\\text{Si}_2\\text{O}_5\\text{(OH)}_4 \\text{(s)}+ 2\\text{K}^+ \\text{(aq)} + 4\\text{H}_{4}\\text{SiO}_{4} \\text{(aq)} \\space K =\\text {10}^{-7.361} \\space \\text{(reaction 5)}$\n",
    "\n",
    "We can relate these equations to their equilibrium constants through the law of mass action, i.e. for Kaolinite - Gibbsite (reaction 1):\n",
    "\n",
    "$\\left[\\text{H}_4\\text{SiO}_4\\right]^2=10^{-8.491}$ (recall that solids and water have activity of 1 and thus cancel)\n",
    "\n",
    "How could we visualize this? Note that the right side of the equation contains $10^{-8.491}$. Thus if we apply our exponent and log rules, and take the $\\log_{10}$ of both sides, we can rearrange the above equation to:\n",
    "\n",
    "$\\log\\left[\\text{H}_4\\text{SiO}_4\\right]=-4.2455$\n",
    "\n",
    "Let's run the following chunk to assign our solution to a numeric value using \"<-\" so we can use it later."
   ]
  },
  {
   "cell_type": "code",
   "execution_count": null,
   "metadata": {
    "autoscroll": false
   },
   "outputs": [],
   "source": [
    "# solve for Y coordinate of the two intersecting equilibrium lines \n",
    "# and assign it to a numeric variable\n",
    "gibb_intersect_H4SiO4 <- -4.2455 \n",
    "\n",
    "# print the value\n",
    "print(gibb_intersect_H4SiO4)"
   ]
  },
  {
   "cell_type": "markdown",
   "metadata": {},
   "source": [
    "Now, we can plot the above equation as a vertical line with $\\log\\left[\\text{H}_4\\text{SiO}_4\\right]$ on the X axis. This line indicates water chemistries at which gibbsite and kaolinite can coexist at equilibrium. Run the code chunk below to see this line plotted. Note: we're using the ggplot2 package for plotting here, and using the geom_vline() function to plot a vertical line. You can see in the code that we've written in the X intercept of -4.2455. We'll be using comments (un-executed code) with a #hashtag symbol to guide you through the relevant pieces of code.\n",
    "\n"
   ]
  },
  {
   "cell_type": "code",
   "execution_count": null,
   "metadata": {
    "Rmd_chunk_options": "fig.height=4, fig.width=4",
    "autoscroll": false
   },
   "outputs": [],
   "source": [
    "# setup a basic plot\n",
    "base_plot <- \n",
    "    ggplot()+\n",
    "    # scales\n",
    "    scale_x_continuous(limits = c(-6, -2), expand = c(0, 0))+\n",
    "    scale_y_continuous(limits = c(-3, 6), expand = c(0, 0))+\n",
    "    # labels\n",
    "    labs(\n",
    "        x = TeX(\"$\\\\log\\\\lbrack H_4SiO_4\\\\rbrack$\"),\n",
    "        y = TeX(\"$\\\\log\\\\frac{\\\\lbrack K^+ \\\\rbrack}{\\\\lbrack H^+ \\\\rbrack}$\")\n",
    "    ) + \n",
    "    # style\n",
    "    theme_bw()+\n",
    "    theme(panel.grid.major = element_blank(), panel.grid.minor = element_blank())+\n",
    "    theme(axis.title.y = element_text(angle = 0, vjust = .5, size = 11))\n",
    "\n",
    "# add the first line to the base plot\n",
    "plot_stability_segment <- \n",
    "    base_plot + \n",
    "    # add vertical line for gibbsite - kaolinite equilibrium\n",
    "    geom_vline(xintercept = gibb_intersect_H4SiO4) \n",
    "\n",
    "# print plot\n",
    "print(plot_stability_segment)"
   ]
  },
  {
   "cell_type": "markdown",
   "metadata": {},
   "source": [
    "As we can now see, plotting in log coordinates has allowed us to visualize equilibrium equations as straight lines. We are well on our way to completing a mineral stability diagram!\n",
    "\n",
    "Now let's see what happens if we try to add another equilibrium line to the diagram. This time, we'll use the Muscovite - Gibbsite equilibrium (reaction 2 from above)\n",
    "\n",
    "$\\text{KAl}_3\\text{Si}_3\\text{O}_{10}\\text{(OH)}_2 + 9\\text{H}_2\\text{O} + \\text{H}^+ \\leftrightharpoons 3\\text{Al}\\text{(OH)}_3  + \\text{K}^+ + 3\\text{H}_4\\text{SiO}_4, K = \\text{10}^{-9.366}$\n",
    "\n",
    "Relating concentrations to the equilibrium constant with the Law of Mass Action:\n",
    "$\\frac{\\left[\\text{H}_4\\text{SiO}_4\\right]^3\\left[\\text{K}^+\\right]}{\\left[\\text{H}^+\\right]}=10^{-9.366}$\n",
    "\n",
    "Taking log of both sides:\n",
    "$3\\log\\left[\\text{H}_4\\text{SiO}_4\\right]+\\log\\frac{\\left[\\text{K}^+\\right]}{\\left[\\text{H}^+\\right]}=-9.366$\n",
    "\n",
    "Rearranging:\n",
    "$\\log\\frac{\\left[\\text{K}^+\\right]}{\\left[\\text{H}^+\\right]}=-3\\log\\left[\\text{H}_4\\text{SiO}_4\\right]-9.366$\n",
    "\n",
    "The above expression is the equation for a straight line in the form Y=mX+b on a plot of $\\log\\frac{\\left[\\text{K}^+\\right]}{\\left[\\text{H}^+\\right]}$ vs. $\\log\\left[\\text{H}_4\\text{SiO}_4\\right]$\n",
    "\n",
    "We can add this line to our mineral stability plot using the geom_abline() function, which takes the slope and Y-intercept of a line as arguments. See and run the code chunk below.\n"
   ]
  },
  {
   "cell_type": "code",
   "execution_count": null,
   "metadata": {
    "Rmd_chunk_options": "fig.height=4, fig.width=4",
    "autoscroll": false
   },
   "outputs": [],
   "source": [
    "plot_stability_segment2 <- \n",
    "    # start with the previous plot\n",
    "    plot_stability_segment + \n",
    "    # add straight line in slope-intercept form for muscovite gibbsite equilibrium\n",
    "    geom_abline(intercept = -9.366, slope = -3)\n",
    "\n",
    "# print plot\n",
    "print(plot_stability_segment2)"
   ]
  },
  {
   "cell_type": "markdown",
   "metadata": {},
   "source": [
    "\n",
    "Cool, it's starting to look like a mineral stability diagram, but as you can see, the lines intersect. How do we deal with this? First, let's annotate the text \"gibbsite\" in its stability field, just like in the plot we made with the CHNOSZ package. We can do this using the annotate() function. We just tell it what we want to annotate (text), the X and Y coordinates, of our annotation, as well as what should be on the label (gibbsite), and the size of the letters (4). See and run the chunk.\n",
    "\n"
   ]
  },
  {
   "cell_type": "code",
   "execution_count": null,
   "metadata": {
    "Rmd_chunk_options": "fig.height=4, fig.width=4",
    "autoscroll": false
   },
   "outputs": [],
   "source": [
    "plot_stability_segment3 <- \n",
    "    # start with the previous plot\n",
    "    plot_stability_segment2 + \n",
    "    # add gibbsite text label\n",
    "    annotate(\"text\", y = 4, x = -5.4, label = \"gibbsite\", size = 4)\n",
    "\n",
    "# print plot\n",
    "print(plot_stability_segment3)"
   ]
  },
  {
   "cell_type": "markdown",
   "metadata": {},
   "source": [
    "## Question 2\n",
    "How you could infer which of the areas on the above plot is the stability field for gibbsite using Le Châtelier's Principle? Explain.\n"
   ]
  },
  {
   "cell_type": "markdown",
   "metadata": {},
   "source": [
    "Since gibbsite is only stable in one region on this plot, we must remove the excess lines, which are meaningless. To do this, we must first solve for the point at which these two lines intersect. The X coordinate of the point of intersection will be -4.2455, which we take for the equation of a vertical line that we derived for the Kaolinite - Gibbsite equilibrium. We can then simply plug in that X value to the equilibrium line we derived for the Muscovite - Gibbsite equilibrium. Run the chunk below to plug calculate the Y coordinate of the point of intersection."
   ]
  },
  {
   "cell_type": "code",
   "execution_count": null,
   "metadata": {
    "autoscroll": false
   },
   "outputs": [],
   "source": [
    "# solve for Y coordinate of the two intersecting equilibrium lines\n",
    "# and assign it to a numeric value\n",
    "gibb_intersect_KH <- -3 * -4.2455 - 9.366 \n",
    "\n",
    "# print the value\n",
    "print(gibb_intersect_KH)"
   ]
  },
  {
   "cell_type": "markdown",
   "metadata": {},
   "source": [
    "\n",
    "Now, we can use the geom_segment() function to plot two line segments that define the borders of the gibbsite stability field. The geom_segment() function takes two XY coordinate points as arguments, and draws a line through them. In our case, the lines hit the edges of the region we have chosen to display on our plot. For the vertical line, it is simple to infer where it hits the edge, but for the sloped line, we must solve for it.\n",
    "\n",
    "\n",
    "\n"
   ]
  },
  {
   "cell_type": "code",
   "execution_count": null,
   "metadata": {
    "autoscroll": false
   },
   "outputs": [],
   "source": [
    "# solve for X coordinate where gibbsite-muscovite equilibrium line exits the plot\n",
    "# and assign it to a numeric value\n",
    "gibb_musc_edge_H4SiO4 <- -(6 + 9.366) / 3 \n",
    "\n",
    "# print that value\n",
    "print(gibb_musc_edge_H4SiO4)"
   ]
  },
  {
   "cell_type": "code",
   "execution_count": null,
   "metadata": {
    "Rmd_chunk_options": "fig.height=4, fig.width=4",
    "autoscroll": false
   },
   "outputs": [],
   "source": [
    "plot_stability_segment4 <- \n",
    "    # start back with the base plot\n",
    "    base_plot + \n",
    "    # gibbsite - kaolinite equilibrium line\n",
    "    geom_segment(aes(x = gibb_intersect_H4SiO4, y = gibb_intersect_KH, xend = gibb_intersect_H4SiO4, yend = -3)) +\n",
    "    # gibbsite - muscovite equilibrium line\n",
    "    geom_segment(aes(x = gibb_intersect_H4SiO4, y = gibb_intersect_KH, xend = gibb_musc_edge_H4SiO4, yend = 6)) + \n",
    "    # gibbsite label\n",
    "    annotate(\"text\", y = 4, x=-5.4, label = \"gibbsite\", size = 4)\n",
    "\n",
    "# print plot\n",
    "print(plot_stability_segment4)"
   ]
  },
  {
   "cell_type": "markdown",
   "metadata": {},
   "source": [
    "## Question 3\n",
    "\n",
    "OK now it's your turn. Solve for the equilibrium lines for Muscovite - Kaolinite and Microcline - Muscovite, and then input the endpoints of segments in the chunk below to plot them. Please do your calculations on a separate sheet of paper for your instructors' review.  *In case you need a refresher, there is a Exponent and Logarithm Rule Cheat Sheet in the repository for your reference.*\n",
    "\n",
    "**muscovite - kaolinite**\n",
    "$2\\text{KAl}_3\\text{Si}_3\\text{O}_{10}\\text{(OH)}_2 \\text{(s)} + 3\\text{H}_2\\text{O} \\text{(l)}+ 2\\text{H}^+ \\text{(aq)} \\leftrightharpoons 3\\text{Al}_2\\text{Si}_2\\text{O}_5\\text{(OH)}_4 \\text{(s)} + 2 \\text {K}^+ \\text{(aq)}, \\space K = 10^{6.741} \\space \\text{(reaction 3)}$\n",
    "\n",
    "**microcline - muscovite**\n",
    "$3\\text{KAlSi}_3\\text{O}_8 \\text{(s)}+ 2\\text{H}^+ \\text{(aq)} + 12\\text{H}_2\\text{O} \\text{(l)} \\leftrightharpoons \\text{KAl}_3\\text{Si}_3\\text{O}_{10}\\text{(OH)}_2 \\text{(s)} + 2 \\text {K}^+ \\text{(aq)} + 6\\text{H}_{4}\\text{SiO}_{4} \\text{(aq)},\\space K = 10^{-14.412} \\space \\text{(reaction 4)}$"
   ]
  },
  {
   "cell_type": "markdown",
   "metadata": {},
   "source": []
  },
  {
   "cell_type": "code",
   "execution_count": null,
   "metadata": {
    "autoscroll": false
   },
   "outputs": [],
   "source": [
    "# students should assign the log K/H value for the equilibrium point \n",
    "# between kaolinite muscovite and microcline here\n",
    "kaol_musc_micr_eq_point_KH <- ####\n",
    "print(kaol_musc_micr_eq_point_KH)"
   ]
  },
  {
   "cell_type": "code",
   "execution_count": null,
   "metadata": {
    "autoscroll": false
   },
   "outputs": [],
   "source": [
    "# students should assign the log H4SiO4 value for the equilibrium point \n",
    "# between kaolinite muscovite and microcline here\n",
    "kaol_musc_micr_eq_point_H4SiO4 <- ####\n",
    "print(kaol_musc_micr_eq_point_H4SiO4)"
   ]
  },
  {
   "cell_type": "code",
   "execution_count": null,
   "metadata": {
    "autoscroll": false
   },
   "outputs": [],
   "source": [
    "# students should assign the log K/H value for where the microcline - muscovite \n",
    "# equilibrium line intersects the edge of the plotted area here\n",
    "musc_micr_edge_KH <- ####\n",
    "print(musc_micr_edge_KH)"
   ]
  },
  {
   "cell_type": "code",
   "execution_count": null,
   "metadata": {
    "autoscroll": false
   },
   "outputs": [],
   "source": [
    "# students should assign the log H4SiO4 value for where the microcline - muscovite \n",
    "# equilibrium line intersects the edge of the plotted area here\n",
    "musc_micr_edge_H4SiO4 <- ####\n",
    "print(musc_micr_edge_H4SiO4)"
   ]
  },
  {
   "cell_type": "markdown",
   "metadata": {},
   "source": [
    "\n",
    "[End answer 3]\n",
    "\n"
   ]
  },
  {
   "cell_type": "code",
   "execution_count": null,
   "metadata": {
    "autoscroll": false
   },
   "outputs": [],
   "source": [
    "# the microcline - kaolinite line is solved for you\n",
    "kaol_micr_edge_KH <- ####\n",
    "print(kaol_micr_edge_KH)"
   ]
  },
  {
   "cell_type": "markdown",
   "metadata": {},
   "source": [
    "Now, if you solved the equations and saved them to the appropriate variables, then running the following code chunk should generate a complete mineral stability diagram. It should look like the first figure you generated using the CHNOSZ package.\n",
    "\n"
   ]
  },
  {
   "cell_type": "code",
   "execution_count": null,
   "metadata": {
    "Rmd_chunk_options": "fig.height=4, fig.width=4",
    "autoscroll": false
   },
   "outputs": [],
   "source": [
    "plot_stability_segment5 <- \n",
    "    # start with the previous plot\n",
    "    plot_stability_segment4 + \n",
    "    # muscovite - kaolinite equilibrium line\n",
    "    geom_segment(aes(x = gibb_intersect_H4SiO4, y = gibb_intersect_KH, xend = kaol_musc_micr_eq_point_H4SiO4, yend = kaol_musc_micr_eq_point_KH)) + \n",
    "    #microcline - muscovite equilibrium line\n",
    "    geom_segment(aes(x = kaol_musc_micr_eq_point_H4SiO4, y = kaol_musc_micr_eq_point_KH, xend = musc_micr_edge_H4SiO4, yend = musc_micr_edge_KH)) + \n",
    "    #microcline - kaolinite equilibrium line\n",
    "    geom_segment(aes(x = kaol_musc_micr_eq_point_H4SiO4, y = kaol_musc_micr_eq_point_KH, xend = -2, yend = kaol_micr_edge_KH)) + \n",
    "    # add test labels\n",
    "    annotate(\"text\", y = 5.5, x= -4.6, label = \"muscovite\", size = 4)+\n",
    "    annotate(\"text\", y = 5.5, x= -3, label = \"microcline\", size = 4)+\n",
    "    annotate(\"text\", y = -2, x= -3, label = \"kaolinite\", size = 4)\n",
    "\n",
    "# print plot\n",
    "print(plot_stability_segment5)"
   ]
  },
  {
   "cell_type": "markdown",
   "metadata": {},
   "source": [
    "# Reaction Path Modeling\n",
    "\n",
    "Now that you have successfully derived the mineral stability diagram, we will trace changing water chemistry as microline weathers in the presence of soil water. This is a type of _reaction path_ modeling.\n",
    "\n",
    "Our calculations are adapted from the model of Steinmann et al., (1994) (http://ccm.geoscienceworld.org/content/42/2/197), which is based the following assumptions:\n",
    "\n",
    "1. The system is closed and the water/rock ratio is small. This is akin to having an essentially infinite amount of rock that is able to be weathered.\n",
    "2. The secondary minerals are in equilibrium with ions in the solution even though the primary minerals are not in equilibrium.\n",
    "3. Temperature and pressure are constant.\n",
    "4. Aluminum is conserved in the reactions.\n",
    "5. The solutions remain dilute such that all activity coefficients are close to unity."
   ]
  },
  {
   "cell_type": "markdown",
   "metadata": {
    "toc-hr-collapsed": false
   },
   "source": [
    "## Microcline weathering to gibbsite\n",
    "\n",
    "We are going to start with the single mineral microcline in typical acidic soil water, which has the following ion concentrations:\n",
    "\n",
    "$\\left[\\text{H}_4\\text{SiO}_4\\right] = 10^{-6}$\n",
    "\n",
    "$\\left[\\text{K}^{+}\\right] = 10^{-6}$\n",
    "\n",
    "$\\text{pH} = 4$\n",
    "\n",
    "Remember that $\\text{pH} = -\\log\\left[\\text{H}^+\\right]$.\n",
    "\n",
    "When you plot the initial water chemistry point in the chunk below, you should notice that it sits within the gibbsite field. This indicates that microcline is NOT stable in this water chemistry.\n",
    "\n",
    "The next question is now which weathering reaction should we use for this initial step? Well, we know that we have microcline and that our water chemistry is in the gibbsite field. So, the weathering reaction we use first will be microcline to gibbsite. The following R code chunks will walk you though how this calculation is done.\n",
    "\n",
    "**microcline to gibbsite**\n",
    "$\\text{KAlSi}_3\\text{O}_8 + \\text{H}^+ + 7\\text{H}_2\\text{O} \\leftrightharpoons \\text{Al(OH)}_3 + \\text{K}^+ + 3\\text{H}_4\\text{SiO}_4  \\space \\text{(reaction 6)}$"
   ]
  },
  {
   "cell_type": "markdown",
   "metadata": {},
   "source": [
    "## Question 4\n",
    "Why did we not derive a phase diagram boundary line for the microcline to gibbsite reaction?"
   ]
  },
  {
   "cell_type": "markdown",
   "metadata": {},
   "source": [
    "In the next chunk, we will assign variables for the initial chemical conditions. We then assign an arbitrary _reaction progress variable_, which is simply a placeholder to mark how far the reaction has progressed towards equilibrium. Note that this is not a kinetic model, and that the reaction progress does not accurately represent time. Then we assign variables for the coefficients of reaction 6, where positive values are assigned for the stoichiometry of products and negative values are for reactants. We then create a sequence of reaction steps, and calculate chemistry at each step from the stoichiometric coefficients. We then print out a data frame of ion concentrations and moles of mineral at each step, which you can have a look at to get a feel for the data."
   ]
  },
  {
   "cell_type": "markdown",
   "metadata": {},
   "source": [
    "## Question 5\n",
    "Assign the initial proton concentration in moles per liter to the variable \"mol_l_H_A\" in the chunk below, then run it. Note: you can use scientific notation, i.e. $5*10^{3}$ can be written in the code as 5e3."
   ]
  },
  {
   "cell_type": "code",
   "execution_count": null,
   "metadata": {
    "autoscroll": false
   },
   "outputs": [],
   "source": [
    "#initial conditions are no secondary minerals (only primary mineral, microcline), and water chemistry of typical acidic soil\n",
    "mol_gibbs_A <- 0 # moles gibbsite at t0\n",
    "mol_l_H_A <- 1e-4 #### ENTER PROTON CONCENTRATION OF A TYPICAL ACIDIC SOIL, pH =4  # moles per liter H+ t0\n",
    "mol_l_K_A <- 1e-6 # moles per liter K+ t0\n",
    "mol_l_H4SiO4_A <- 1e-6 # moles per liter H4SiO4 t0\n",
    "mol_kaol_A <- 0 # moles kaolinite t0\n",
    "mol_musc_A <- 0 # moles muscovite t0\n",
    "\n",
    "rxn_prog_var <- 1.882e-6 # reaction progress variable is proportional to the amount of reactant mineral dissolved and defines the extent of reaction. Selection of reaction progress step is arbitrary. Units are moles per kg of solution\n",
    "\n",
    "#coefficients of change for weathering of microcline to gibbsite (reaction 6)\n",
    "co_spar_1 <- -1\n",
    "co_H_1 <- -1\n",
    "co_H2O_1 <- -7\n",
    "co_gibbs_1 <- 1\n",
    "co_K_1 <- 1\n",
    "co_H4SiO4_1 <- 3\n",
    "co_kaol_1 <- 0\n",
    "co_musc_1 <- 0\n",
    "\n",
    "# make table of reaction steps\n",
    "k_spar_to_gibbs <- \n",
    "    tibble(\n",
    "        # steps\n",
    "        steps = seq(0, 100, by = 0.001),\n",
    "        # calculate geochemistry through reaction progress\n",
    "        mol_l_H = mol_l_H_A + co_H_1 * steps * rxn_prog_var, \n",
    "        mol_l_K = mol_l_K_A + co_K_1 * steps * rxn_prog_var, \n",
    "        mol_l_H4SiO4 = mol_l_H4SiO4_A + co_H4SiO4_1 * steps * rxn_prog_var, \n",
    "        mol_gibbs = mol_gibbs_A + co_gibbs_1 * steps * rxn_prog_var, \n",
    "        mol_kaol = mol_kaol_A + co_kaol_1 * steps * rxn_prog_var, \n",
    "        mol_musc = mol_musc_A + co_musc_1 * steps * rxn_prog_var, \n",
    "        log_H4SiO4 = log10(mol_l_H4SiO4), \n",
    "        log_K_H_ratio = log10(mol_l_K/mol_l_H)\n",
    "    ) %>% \n",
    "    filter(log_H4SiO4 <= gibb_intersect_H4SiO4)\n",
    "\n",
    "# display first few lines of the reaction steps and chemistry data frame\n",
    "head(k_spar_to_gibbs, 10)"
   ]
  },
  {
   "cell_type": "markdown",
   "metadata": {},
   "source": [
    "[end answer 5]\n",
    "Run this chunk to plot evolution of water chemistry during microcline weathering to gibbsite\n"
   ]
  },
  {
   "cell_type": "code",
   "execution_count": null,
   "metadata": {
    "Rmd_chunk_options": "fig.height=4, fig.width=6",
    "autoscroll": false
   },
   "outputs": [],
   "source": [
    "plot_AB <- \n",
    "    # start with previous plot\n",
    "    plot_stability_segment5 %+%\n",
    "    # add reaction progress line\n",
    "    geom_point(\n",
    "        data = k_spar_to_gibbs, \n",
    "        map = aes(x = log_H4SiO4, y = log_K_H_ratio, color = steps)) +\n",
    "    # color scale\n",
    "    scale_color_gradient(TeX(\"reaction progress ($\\\\xi$)\"), low = \"red\", high = \"green\") +\n",
    "    theme(legend.position = \"bottom\") +\n",
    "    # annotate points A and B\n",
    "    annotate(\"text\", y = -2.4, x=-5.85, label = \"A\", size = 6) + \n",
    "    annotate(\"text\", y = -1.3, x=-4.35, label = \"B\", size = 6) \n",
    "\n",
    "# print plot\n",
    "options(repr.plot.width = 6, repr.plot.height = 5) # increase plot size for legend\n",
    "print(plot_AB)"
   ]
  },
  {
   "cell_type": "markdown",
   "metadata": {},
   "source": [
    "## Question 6\n",
    "Look at the plot that was generated. Did silicic acid increase or decrease? What accounts for the change in silicic acid? What happened amount of gibbsite?"
   ]
  },
  {
   "cell_type": "markdown",
   "metadata": {},
   "source": [
    "##  Microcline weathering: Gibbsite converted to Kaolinite\n",
    "\n",
    "Now, we have some gibbsite in our system that was produced by K-feldspar weathering. However, if reaction 6 were to continue, the water chemistry would move out of the field of gibbsite stability. Yet, microcline is not in equilibrium with the water yet either. Thus, in order to approach stability with microcline, all gibbsite must be consumed (reaction 7).\n",
    "\n",
    "$\\text{KAlSi}_3\\text{O}_8 + 2\\text{Al(OH)}_3 + \\text{H}^+  \\leftrightharpoons 1.5\\text{Al}_2\\text{Si}_2\\text{O}_5\\text{(OH)}_4 + \\text{K}^+ + 0.5\\text{H}_2\\text{O} \\space \\text{(reaction 7)}$\n",
    "\n",
    "## Question 7\n",
    "Input the stoichiometric coefficients of this reaction below and run the chunk to generate a data frame of water chemistries as reaction 7 progresses."
   ]
  },
  {
   "cell_type": "code",
   "execution_count": null,
   "metadata": {
    "autoscroll": false
   },
   "outputs": [],
   "source": [
    "mol_gibbs_B <- tail(k_spar_to_gibbs$mol_gibbs, 1) # moles gibbsite at point B\n",
    "mol_l_H_B <-  tail(k_spar_to_gibbs$mol_l_H, 1) # moles per liter H+ at point B\n",
    "mol_l_K_B <- tail(k_spar_to_gibbs$mol_l_K, 1) # moles per liter K+ at point B\n",
    "mol_l_H4SiO4_B <- tail(k_spar_to_gibbs$mol_l_H4SiO4, 1) # moles per liter H4SiO4 at point B\n",
    "mol_kaol_B <- tail(k_spar_to_gibbs$mol_kaol, 1) # moles kaolinite at point B\n",
    "mol_musc_B <- tail(k_spar_to_gibbs$mol_musc, 1) # moles muscovite at point B\n",
    "\n",
    "# USER INPUT : coefficients of change for weathering of k spar with conversion of gibbsite to kaolinite (reaction 7)\n",
    "co_spar_2 <- ##\n",
    "co_H_2 <- ##\n",
    "co_H2O_2 <- ##\n",
    "co_gibbs_2 <- ##\n",
    "co_K_2 <- ##\n",
    "co_H4SiO4_2 <- ##\n",
    "co_kaol_2 <- ##\n",
    "co_musc_2 <- ##\n",
    "\n",
    "# make table of reaction steps\n",
    "gibbs_to_kaol <- \n",
    "    tibble(\n",
    "        # steps\n",
    "        steps = seq(0, 100, by = 0.01),\n",
    "        # calculate geochemistry through reaction progress\n",
    "        mol_l_H = mol_l_H_B + co_H_2 * steps * rxn_prog_var,\n",
    "        mol_l_K = mol_l_K_B + co_K_2 * steps * rxn_prog_var, \n",
    "        mol_l_H4SiO4 = mol_l_H4SiO4_B + co_H4SiO4_2 * steps * rxn_prog_var, \n",
    "        mol_gibbs = mol_gibbs_B + co_gibbs_2 * steps * rxn_prog_var, \n",
    "        mol_kaol = mol_kaol_B + co_kaol_2 * steps * rxn_prog_var, \n",
    "        mol_musc = mol_musc_B + co_musc_2 * steps * rxn_prog_var, \n",
    "        log_H4SiO4 = log10(mol_l_H4SiO4), \n",
    "        log_K_H_ratio = log10(mol_l_K/mol_l_H)\n",
    "    ) %>%\n",
    "    # filter out data points where there were calculated to be \n",
    "    # negative moles gibbsite which is impossible\n",
    "    filter(mol_gibbs >= 0) %>%\n",
    "    # move steps to start where previous reaction ended\n",
    "    mutate(steps = round(max(k_spar_to_gibbs$steps), 2) + steps)\n",
    "\n",
    "head(gibbs_to_kaol, 10)"
   ]
  },
  {
   "cell_type": "markdown",
   "metadata": {},
   "source": [
    "\n",
    "Now plot the reaction path by running the chunk below\n"
   ]
  },
  {
   "cell_type": "code",
   "execution_count": null,
   "metadata": {},
   "outputs": [],
   "source": [
    "plot_ABC <- \n",
    "    # start with previous plot\n",
    "    plot_AB + \n",
    "    # continue reaction line\n",
    "    geom_point(\n",
    "        data = gibbs_to_kaol, \n",
    "        map = aes(x = log_H4SiO4, y = log_K_H_ratio, color = steps)) +\n",
    "    # annotate point C\n",
    "    annotate(\"text\", y = -.3, x=-4.35, label = \"C\", size = 6) \n",
    "\n",
    "# print plot\n",
    "print(plot_ABC)"
   ]
  },
  {
   "cell_type": "markdown",
   "metadata": {},
   "source": [
    "Run the chunk below to plot accumulation of minerals with reaction progress.\n"
   ]
  },
  {
   "cell_type": "code",
   "execution_count": null,
   "metadata": {
    "Rmd_chunk_options": "fig.height=6, fig.width=6",
    "autoscroll": false
   },
   "outputs": [],
   "source": [
    "# new plot of mineral abundances\n",
    "plot_minerals_ABC <- \n",
    "    bind_rows(k_spar_to_gibbs, gibbs_to_kaol) %>% \n",
    "    ggplot() + \n",
    "    geom_line(aes(x = steps, y = 1e6 * mol_musc, color = \"µmoles muscovite\"))+\n",
    "    geom_line(aes(x = steps, y = 1e6 * mol_gibbs, color = \"µmoles gibbsite\"))+\n",
    "    geom_line(aes(x = steps, y = 1e6 * mol_kaol, color = \"µmoles kaolinite\"))+\n",
    "    scale_y_continuous(name = \"µmoles mineral in system\")+\n",
    "    scale_x_continuous(name = TeX(\"reaction progress, $\\\\xi$\"))+\n",
    "    theme_bw() + theme(legend.position = \"bottom\") +\n",
    "    labs(color = \"\")\n",
    "\n",
    "# print plot\n",
    "print(plot_minerals_ABC)"
   ]
  },
  {
   "cell_type": "markdown",
   "metadata": {},
   "source": [
    "## Question 8\n",
    "You have just plotted mineral abundance versus reaction progress. Why is there an inverse relationship between kaolinite and gibbsite after reaction progress = ~10? How does this relate to your phase diagram?"
   ]
  },
  {
   "cell_type": "markdown",
   "metadata": {},
   "source": [
    "## Microcline weathering to kaolinite\n",
    "\n",
    "Now, all of our gibbsite has been reacted into kaolinite. However, K-feldspar is still not in equilibrium with the water water chemistry, and further reaction will move through the kaolinite stability field. Run the chunk below to see this progress.\n",
    "\n",
    "**microcline - kaolinite**\n",
    "$2\\text{KAlSi}_3\\text{O}_8 + 2\\text{H}^+ + 9\\text{H}_2\\text{O} \\leftrightharpoons  \\text{Al}_2\\text{Si}_2\\text{O}_5\\text{(OH)}_4 + 2\\text{K}^+ + 4\\text{H}_{4}\\text{SiO}_{4} \\space \\text{(reaction 5)}$"
   ]
  },
  {
   "cell_type": "code",
   "execution_count": null,
   "metadata": {
    "autoscroll": false
   },
   "outputs": [],
   "source": [
    "mol_gibbs_C <- tail(gibbs_to_kaol$mol_gibbs, 1) # moles gibbsite at point C\n",
    "mol_l_H_C <-  tail(gibbs_to_kaol$mol_l_H, 1) # moles per liter H+ at point C\n",
    "mol_l_K_C <- tail(gibbs_to_kaol$mol_l_K, 1) # moles per liter K+ at point C\n",
    "mol_l_H4SiO4_C <- tail(gibbs_to_kaol$mol_l_H4SiO4, 1) # moles per liter H4SiO4 at point C\n",
    "mol_kaol_C <- tail(gibbs_to_kaol$mol_kaol, 1) # moles kaolinite  at point C\n",
    "mol_musc_C <- tail(gibbs_to_kaol$mol_musc, 1) # moles muscovite  at point C\n",
    "\n",
    "#coefficients of change for weathering of microcline to kaolinite (reaction 5)\n",
    "co_spar_3 <- -2\n",
    "co_H_3 <- -2\n",
    "co_H2O_3 <- -9\n",
    "co_gibbs_3 <- 0\n",
    "co_K_3 <- 2\n",
    "co_H4SiO4_3 <- 4\n",
    "co_kaol_3 <- 1\n",
    "co_musc_3 <- 0\n",
    "\n",
    "# make table of reaction steps\n",
    "kspar_to_kaol <-\n",
    "    tibble(\n",
    "        # steps\n",
    "        steps = seq(0, 100, by = 0.0005),\n",
    "        # calculate geochemistry through reaction progress\n",
    "        mol_l_H = mol_l_H_C + co_H_3 * steps * rxn_prog_var, \n",
    "        mol_l_K = mol_l_K_C + co_K_3 * steps * rxn_prog_var, \n",
    "        mol_l_H4SiO4 = mol_l_H4SiO4_C + co_H4SiO4_3 * steps * rxn_prog_var, \n",
    "        mol_gibbs = mol_gibbs_C + co_gibbs_3 * steps * rxn_prog_var, \n",
    "        mol_kaol = mol_kaol_C + co_kaol_3 * steps * rxn_prog_var, \n",
    "        mol_musc = mol_musc_C + co_musc_3 * steps * rxn_prog_var, \n",
    "        log_H4SiO4 = log10(mol_l_H4SiO4), \n",
    "        log_K_H_ratio = log10(mol_l_K/mol_l_H)\n",
    "    ) %>%\n",
    "    # filter out rxn steps past equilibrium\n",
    "    filter(log_K_H_ratio <= kaol_musc_micr_eq_point_KH) %>%\n",
    "    # move steps to start where previous reaction ended\n",
    "    mutate(steps = round(max(gibbs_to_kaol$steps), 2) + steps)\n",
    "\n",
    "head(kspar_to_kaol, 10)"
   ]
  },
  {
   "cell_type": "markdown",
   "metadata": {},
   "source": [
    "\n",
    "Now plot the reaction path by running the chunk below"
   ]
  },
  {
   "cell_type": "code",
   "execution_count": null,
   "metadata": {},
   "outputs": [],
   "source": [
    "plot_ABCD <- \n",
    "    # start with previous plot\n",
    "    plot_ABC + \n",
    "    # continue reaction line\n",
    "    geom_point(\n",
    "        data = kspar_to_kaol, \n",
    "        map = aes(x = log_H4SiO4, y = log_K_H_ratio, color = steps)) +\n",
    "    # annotate point D\n",
    "    annotate(\"text\", y = 3.7, x=-3.85, label = \"D\", size = 6) \n",
    "\n",
    "# print plot\n",
    "print(plot_ABCD)"
   ]
  },
  {
   "cell_type": "markdown",
   "metadata": {},
   "source": [
    "\n",
    "Plot accumulation of minerals, points A - D\n"
   ]
  },
  {
   "cell_type": "code",
   "execution_count": null,
   "metadata": {
    "Rmd_chunk_options": "fig.height=6, fig.width=6",
    "autoscroll": false
   },
   "outputs": [],
   "source": [
    "plot_minerals_ABCD <-\n",
    "    # start with previous plot\n",
    "    plot_minerals_ABC %+%\n",
    "    # replace plot data with new summaryof all steps\n",
    "    bind_rows(k_spar_to_gibbs, gibbs_to_kaol, kspar_to_kaol) \n",
    "\n",
    "# print plot\n",
    "print(plot_minerals_ABCD)"
   ]
  },
  {
   "cell_type": "markdown",
   "metadata": {},
   "source": [
    "\n",
    "## Microcline weathering with conversion of kaolinite to muscovite, reaching equilibrium between all 3 minerals\n",
    "\n",
    "Run the chunks below.\n",
    "\n",
    "$\\text{KAlSi}_3\\text{O}_8 + \\text{Al}_2\\text{Si}_2\\text{O}_5\\text{(OH)}_4 + 3\\text{H}_2\\text{O} \\leftrightharpoons \\text{KAl}_3\\text{Si}_3\\text{O}_{10}\\text{(OH)}_2 + 2\\text{H}_4\\text{SiO}_4 \\space \\text{(reaction 8)}$\n",
    "\n",
    "Initial conditions\n"
   ]
  },
  {
   "cell_type": "code",
   "execution_count": null,
   "metadata": {
    "autoscroll": false
   },
   "outputs": [],
   "source": [
    "mol_gibbs_D <- tail(kspar_to_kaol$mol_gibbs, 1) # moles gibbsite at point D\n",
    "mol_l_H_D <-  tail(kspar_to_kaol$mol_l_H, 1) # moles per liter H+ at point D\n",
    "mol_l_K_D <- tail(kspar_to_kaol$mol_l_K, 1) # moles per liter K+ at point D\n",
    "mol_l_H4SiO4_D <- tail(kspar_to_kaol$mol_l_H4SiO4, 1) # moles per liter H4SiO4 at point D\n",
    "mol_kaol_D <- tail(kspar_to_kaol$mol_kaol, 1) # moles kaolinite  at point D\n",
    "mol_musc_D <- tail(kspar_to_kaol$mol_musc, 1) # moles muscovite  at point D\n",
    "\n",
    "#coefficients of change for feldspar weathering with conversion of kaolinite to muscovite (reaction 4)\n",
    "co_spar_4 <- -1\n",
    "co_H_4 <- 0\n",
    "co_H2O_4 <- -3\n",
    "co_gibbs_4 <- 0\n",
    "co_K_4 <- 0\n",
    "co_H4SiO4_4 <- 2\n",
    "co_kaol_4 <- -1\n",
    "co_musc_4 <- 1\n",
    "\n",
    "# make table of reaction steps\n",
    "kspar_to_musc <-\n",
    "    tibble(\n",
    "        # steps\n",
    "        steps = seq(0, 100, by = 0.001),\n",
    "        # calculate geochemistry through reaction progress\n",
    "        mol_l_H = mol_l_H_D + co_H_4 * steps * rxn_prog_var, \n",
    "        mol_l_K = mol_l_K_D + co_K_4 * steps * rxn_prog_var, \n",
    "        mol_l_H4SiO4 = mol_l_H4SiO4_D + co_H4SiO4_4 * steps * rxn_prog_var, \n",
    "        mol_gibbs = mol_gibbs_D + co_gibbs_4 * steps * rxn_prog_var, \n",
    "        mol_kaol = mol_kaol_D + co_kaol_4 * steps * rxn_prog_var, \n",
    "        mol_musc = mol_musc_D + co_musc_4 * steps * rxn_prog_var, \n",
    "        log_H4SiO4 = log10(mol_l_H4SiO4), \n",
    "        log_K_H_ratio = log10(mol_l_K/mol_l_H)\n",
    "    ) %>%\n",
    "    # filter out rxn steps past equilibrium\n",
    "    filter(mol_kaol >= 0) %>%\n",
    "    # move steps to start where previous reaction ended\n",
    "    mutate(steps = round(max(kspar_to_kaol$steps), 2) + steps)\n",
    "\n",
    "head(kspar_to_musc, 10)"
   ]
  },
  {
   "cell_type": "markdown",
   "metadata": {},
   "source": [
    "Now plot the reaction path by running the chunk below"
   ]
  },
  {
   "cell_type": "code",
   "execution_count": null,
   "metadata": {
    "Rmd_chunk_options": "fig.height=4, fig.width=6",
    "autoscroll": false
   },
   "outputs": [],
   "source": [
    "plot_ABCDE <- \n",
    "    # start with previous plot\n",
    "    plot_ABCD + \n",
    "    # continue reaction line\n",
    "    geom_point(\n",
    "        data = kspar_to_musc, \n",
    "        map = aes(x = log_H4SiO4, y = log_K_H_ratio, color = steps)) +\n",
    "    # annotate point D\n",
    "    annotate(\"text\", y = 3.7, x=-3.4, label = \"E\", size = 6)\n",
    "\n",
    "# print plot\n",
    "print(plot_ABCDE)"
   ]
  },
  {
   "cell_type": "markdown",
   "metadata": {},
   "source": [
    "## Question 9\n",
    "Will microcline continue to dissolve after point E is reached? Why or why not?\n",
    "\n",
    "\n",
    "Plot accumulation of minerals points A-E\n"
   ]
  },
  {
   "cell_type": "code",
   "execution_count": null,
   "metadata": {
    "Rmd_chunk_options": "fig.height=6, fig.width=6",
    "autoscroll": false
   },
   "outputs": [],
   "source": [
    "plot_minerals_ABCDE <-\n",
    "    # start with previous plot\n",
    "    plot_minerals_ABCD %+%\n",
    "    # replace plot data with new summaryof all steps\n",
    "    bind_rows(k_spar_to_gibbs, gibbs_to_kaol, kspar_to_kaol, kspar_to_musc) \n",
    "\n",
    "# print plot\n",
    "print(plot_minerals_ABCDE)"
   ]
  },
  {
   "cell_type": "markdown",
   "metadata": {},
   "source": [
    "\n",
    "\n",
    "\n",
    "## Animating the full reaction\n",
    "\n",
    "Finally, let's animate the changes in water chemistry and mineral abundances together and watch the full reaction unfold!\n"
   ]
  },
  {
   "cell_type": "code",
   "execution_count": null,
   "metadata": {
    "Rmd_chunk_options": "warning=FALSE, message=FALSE",
    "autoscroll": false
   },
   "outputs": [],
   "source": [
    "anim_data <- \n",
    "    # combine all steps\n",
    "    bind_rows(\n",
    "        filter(k_spar_to_gibbs, steps %% 0.5 == 0), \n",
    "        filter(gibbs_to_kaol, steps %% 0.5 == 0), \n",
    "        filter(kspar_to_kaol, steps %% 1 == 0), \n",
    "        filter(kspar_to_musc, steps %% 2 == 0)\n",
    "    )\n",
    "\n",
    "plot_reactions_ABCDE_anim <- \n",
    "    anim_data %>%\n",
    "    plot_ly() %>%\n",
    "    add_trace(x = ~log_H4SiO4,\n",
    "            y = ~log_K_H_ratio,\n",
    "            mode = \"lines\",\n",
    "            #marker = list(color = \"black\"),\n",
    "            line = list(color = \"black\")) %>%\n",
    "    add_trace(x = ~log_H4SiO4,\n",
    "            y = ~log_K_H_ratio,\n",
    "            frame = ~steps,\n",
    "            marker = list(color = \"red\", size = 10)) %>%\n",
    "    layout(xaxis = list(title = \"log[H4SiO4]\", range = c(-6, -3)),\n",
    "           yaxis = list(title = \"log[K+/H+]\", range = c(-3, 5)))\n",
    "\n",
    "plot_minerals_rxns_ABCDE_anim <- \n",
    "    anim_data %>%\n",
    "    rename(\"Gibbsite\" = \"mol_gibbs\", \"Kaolinite\" = \"mol_kaol\", \"Muscovite\" = \"mol_musc\") %>%\n",
    "    gather(key = \"phase\", value = \"moles\", Gibbsite, Kaolinite, Muscovite) %>%\n",
    "    plot_ly() %>%\n",
    "    add_trace(x = ~phase,\n",
    "            y = ~moles*10^6,\n",
    "            type = 'bar',\n",
    "            frame = ~steps,\n",
    "            color = ~phase) %>%\n",
    "    layout(xaxis = list(title = \"Reaction progress\"),\n",
    "           yaxis = list(title = \"Micromoles mineral in system\", range = c(0, 50)))\n",
    "\n",
    "suppressMessages(suppressWarnings(\n",
    "    subplot(plot_reactions_ABCDE_anim, plot_minerals_rxns_ABCDE_anim,\n",
    "            nrows = 1,\n",
    "            titleX = T,\n",
    "            titleY = T,\n",
    "            margin = 0.05) %>%\n",
    "      layout(showlegend = FALSE, title = \"Reaction Animation\") %>%\n",
    "      animation_opts(frame = 200, transition = 0, redraw = TRUE)\n",
    "))"
   ]
  },
  {
   "cell_type": "markdown",
   "metadata": {},
   "source": [
    "\n",
    "\n"
   ]
  }
 ],
 "metadata": {
  "Rmd_header": {
   "date": "`r Sys.Date()`",
   "editor_options": {
    "chunk_output_type": "inline"
   },
   "output": {
    "html_document": {
     "code_folding": "show",
     "css": "stylesheet.css",
     "df_print": "paged",
     "fig_caption": true,
     "number_sections": true,
     "toc": true,
     "toc_depth": 3,
     "toc_float": true
    }
   },
   "subtitle": "Source file: weathering_pset.Rmd",
   "title": "Mineral Stability Diagrams: K Feldspar Weathering"
  },
  "kernelspec": {
   "display_name": "R",
   "language": "R",
   "name": "ir"
  },
  "language_info": {
   "codemirror_mode": "r",
   "file_extension": ".r",
   "mimetype": "text/x-r-source",
   "name": "R",
   "pygments_lexer": "r",
   "version": "3.5.1"
  },
  "toc-autonumbering": false
 },
 "nbformat": 4,
 "nbformat_minor": 2
}
